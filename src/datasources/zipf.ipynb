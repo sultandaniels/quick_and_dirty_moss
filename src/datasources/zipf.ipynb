{
 "cells": [
  {
   "cell_type": "code",
   "execution_count": 2,
   "metadata": {},
   "outputs": [],
   "source": [
    "\n",
    "import scipy.stats as stats"
   ]
  },
  {
   "cell_type": "code",
   "execution_count": 3,
   "metadata": {},
   "outputs": [
    {
     "name": "stdout",
     "output_type": "stream",
     "text": [
      "[0.45119526 0.15952161 0.08683257 0.05639941 0.04035613 0.03069995\n",
      " 0.02436225 0.0199402  0.01671094 0.01426805 0.01236732 0.01085407\n",
      " 0.00962608 0.00861336 0.00776654 0.00704993 0.00643711 0.00590821\n",
      " 0.00544796 0.00504452 0.00468852 0.00437251 0.00409047 0.00383749\n",
      " 0.00360956]\n"
     ]
    },
    {
     "data": {
      "image/png": "[encoded data removed]",
      "text/plain": [
       "<Figure size 640x480 with 1 Axes>"
      ]
     },
     "metadata": {},
     "output_type": "display_data"
    }
   ],
   "source": [
    "a = 1.5\n",
    "n = 25\n",
    "\n",
    "#plot the pmf of the zipfian(a,n) distribution\n",
    "import matplotlib.pyplot as plt\n",
    "import numpy as np\n",
    "\n",
    "x = np.arange(1, n+1)\n",
    "pmf = stats.zipfian.pmf(x, a, n)\n",
    "print(pmf)\n",
    "plt.bar(x, pmf)\n",
    "plt.xlabel('x')\n",
    "plt.ylabel('P(X=x)')\n",
    "plt.yscale('log')\n",
    "plt.title('Zipfian({},{})'.format(a,n))\n",
    "plt.show()"
   ]
  },
  {
   "cell_type": "code",
   "execution_count": 12,
   "metadata": {},
   "outputs": [
    {
     "name": "stdout",
     "output_type": "stream",
     "text": [
      "[0.45119525634327323, 0.15952161269976556, 0.086832567568957, 0.056399407042909154, 0.04035613057236009, 0.030699948677924294, 0.024362253898292635, 0.019940201587470695, 0.016710935420121233, 0.014268046795082784, 0.012367317127924458, 0.010854070946119626, 0.009626080662673316, 0.008613357468235563, 0.007766540949801262, 0.007049925880363644, 0.006437113147684957, 0.005908207877769095, 0.005447962676468856, 0.005044516321545011, 0.0046885179487484215, 0.004372506903119961, 0.004090465847902142, 0.003837493584740537, 0.003609562050746186]\n"
     ]
    },
    {
     "data": {
      "image/png": "[encoded data removed]",
      "text/plain": [
       "<Figure size 640x480 with 1 Axes>"
      ]
     },
     "metadata": {},
     "output_type": "display_data"
    },
    {
     "name": "stdout",
     "output_type": "stream",
     "text": [
      "exp(-2) =  0.1353352832366127\n",
      "Probaility of zero cut trace = z(1)exp(-2)=0.061062637812232985, where z(x) is the pmf of Zipfian(1.5,25)\n"
     ]
    }
   ],
   "source": [
    "harm = 0\n",
    "\n",
    "for k in range(1, n+1):\n",
    "    harm += 1/k**a\n",
    "\n",
    "zipf_self = []\n",
    "for k in range(1, n+1):\n",
    "    zipf_self.append(1/((k**a)*harm))\n",
    "\n",
    "\n",
    "print(zipf_self)\n",
    "\n",
    "plt.bar(x, zipf_self)\n",
    "plt.xlabel('x')\n",
    "plt.ylabel('P(X=x)')\n",
    "plt.yscale('log')\n",
    "plt.title('Zipfian({},{})'.format(a,n))\n",
    "plt.show()\n",
    "\n",
    "print(\"exp(-2) = \", np.exp(-2))\n",
    "# probability of zero cut trace\n",
    "print(f\"Probaility of zero cut trace = z(1)exp(-2)={pmf[0]*np.exp(-2)}, where z(x) is the pmf of Zipfian({a},{n})\")"
   ]
  },
  {
   "cell_type": "code",
   "execution_count": 5,
   "metadata": {},
   "outputs": [
    {
     "name": "stdout",
     "output_type": "stream",
     "text": [
      "Mean of Zipfian(1.5,25) =  3.8980166787247157\n",
      "Approx. Expected # of empty bins =  0.28735424708139945\n"
     ]
    }
   ],
   "source": [
    "#let M be the average of a zipfian(1.5,25) distribution\n",
    "m = stats.zipfian.mean(a, n)\n",
    "print(\"Mean of Zipfian(1.5,25) = \", m)\n",
    "\n",
    "avg_c = 2*m\n",
    "\n",
    "#~expected # of empty bins\n",
    "\n",
    "print(\"Approx. Expected # of empty bins = \", m*(1 - 1/m)**(avg_c+1))"
   ]
  },
  {
   "cell_type": "code",
   "execution_count": null,
   "metadata": {},
   "outputs": [],
   "source": [
    "def approx_prob_of_leak(alpha, zipf_pmf, backstory_len=7):\n",
    "    sum = 0\n",
    "    for m in range(alpha + 1, len(zipf_pmf) + 1):\n",
    "        # print(\"m = \", m)\n",
    "        lb = 1 - m*np.log((m - alpha)/m)\n",
    "        # print(\"lb = \", lb)\n",
    "        pois_ccdf = 1 - stats.poisson.cdf(lb, m)\n",
    "        val = pois_ccdf * zipf_pmf[m-1]\n",
    "        # print(\"val = \", val)\n",
    "        sum += val\n",
    "\n",
    "    print(f\"Approx. prob. of leak for alpha = {alpha} is {sum}\\n {250 - backstory_len*alpha} indices in the context left for data\\n\")\n",
    "    return sum"
   ]
  },
  {
   "cell_type": "code",
   "execution_count": 17,
   "metadata": {},
   "outputs": [
    {
     "name": "stdout",
     "output_type": "stream",
     "text": [
      "Approx. prob. of leak for alpha = 1 is 0.382587745207595\n",
      " 243 indices in the context left for data\n",
      "\n",
      "Approx. prob. of leak for alpha = 2 is 0.2752650554478192\n",
      " 236 indices in the context left for data\n",
      "\n",
      "Approx. prob. of leak for alpha = 3 is 0.2058835795632753\n",
      " 229 indices in the context left for data\n",
      "\n",
      "Approx. prob. of leak for alpha = 4 is 0.16074731188040745\n",
      " 222 indices in the context left for data\n",
      "\n",
      "Approx. prob. of leak for alpha = 5 is 0.12907967656656683\n",
      " 215 indices in the context left for data\n",
      "\n",
      "Approx. prob. of leak for alpha = 6 is 0.10240609669137116\n",
      " 208 indices in the context left for data\n",
      "\n",
      "Approx. prob. of leak for alpha = 7 is 0.08196035091090936\n",
      " 201 indices in the context left for data\n",
      "\n",
      "Approx. prob. of leak for alpha = 8 is 0.06702294743953116\n",
      " 194 indices in the context left for data\n",
      "\n",
      "Approx. prob. of leak for alpha = 9 is 0.05415673012611292\n",
      " 187 indices in the context left for data\n",
      "\n",
      "Approx. prob. of leak for alpha = 10 is 0.042592258161117\n",
      " 180 indices in the context left for data\n",
      "\n",
      "Approx. prob. of leak for alpha = 11 is 0.033142467608963534\n",
      " 173 indices in the context left for data\n",
      "\n",
      "Approx. prob. of leak for alpha = 12 is 0.02497073675002564\n",
      " 166 indices in the context left for data\n",
      "\n",
      "Approx. prob. of leak for alpha = 13 is 0.0173694979363836\n",
      " 159 indices in the context left for data\n",
      "\n",
      "Approx. prob. of leak for alpha = 14 is 0.010717513396549095\n",
      " 152 indices in the context left for data\n",
      "\n",
      "Approx. prob. of leak for alpha = 15 is 0.006429119438947783\n",
      " 145 indices in the context left for data\n",
      "\n",
      "Approx. prob. of leak for alpha = 16 is 0.0030990341641369307\n",
      " 138 indices in the context left for data\n",
      "\n",
      "Approx. prob. of leak for alpha = 17 is 0.0012584955214113816\n",
      " 131 indices in the context left for data\n",
      "\n",
      "Approx. prob. of leak for alpha = 18 is 0.0003577677961122337\n",
      " 124 indices in the context left for data\n",
      "\n",
      "Approx. prob. of leak for alpha = 19 is 6.498971087236974e-05\n",
      " 117 indices in the context left for data\n",
      "\n",
      "Approx. prob. of leak for alpha = 20 is 4.58194800138958e-06\n",
      " 110 indices in the context left for data\n",
      "\n"
     ]
    }
   ],
   "source": [
    "zipf_pmf = stats.zipfian.pmf(x, a, n)\n",
    "\n",
    "for alpha in range(1, 21):\n",
    "    approx_prob_of_leak(alpha, zipf_pmf)"
   ]
  },
  {
   "cell_type": "code",
   "execution_count": null,
   "metadata": {},
   "outputs": [],
   "source": []
  }
 ],
 "metadata": {
  "kernelspec": {
   "display_name": "mop",
   "language": "python",
   "name": "python3"
  },
  "language_info": {
   "codemirror_mode": {
    "name": "ipython",
    "version": 3
   },
   "file_extension": ".py",
   "mimetype": "text/x-python",
   "name": "python",
   "nbconvert_exporter": "python",
   "pygments_lexer": "ipython3",
   "version": "3.12.4"
  }
 },
 "nbformat": 4,
 "nbformat_minor": 2
}
