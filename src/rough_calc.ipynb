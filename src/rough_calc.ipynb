{
 "cells": [
  {
   "cell_type": "markdown",
   "metadata": {},
   "source": [
    "# Rough Calculation for Number of Open Parentheses in Training Data"
   ]
  },
  {
   "cell_type": "code",
   "execution_count": 33,
   "metadata": {},
   "outputs": [],
   "source": [
    "import scipy.stats as stats\n",
    "import numpy as np"
   ]
  },
  {
   "cell_type": "code",
   "execution_count": 20,
   "metadata": {},
   "outputs": [],
   "source": [
    "def generate_zipfian_integer(n, a):\n",
    "    \"\"\"\n",
    "    Generate integer number between 1 and n (inclusive) from a Zipf's power law distribution.\n",
    "\n",
    "    Parameters:\n",
    "    n (int): The upper limit (inclusive) for the range of integers.\n",
    "    a (float): The parameter of the Zipfian distribution (a >= 0).\n",
    "\n",
    "    Returns:\n",
    "    int: An integer between 0 and n.\n",
    "    \"\"\"\n",
    "    # Generate samples from a Zipfian distribution\n",
    "    sample = stats.zipfian.rvs(a,n, size=1)\n",
    "\n",
    "    return sample[0]"
   ]
  },
  {
   "cell_type": "markdown",
   "metadata": {},
   "source": [
    "## Average number of systems in a trace"
   ]
  },
  {
   "cell_type": "code",
   "execution_count": 19,
   "metadata": {},
   "outputs": [
    {
     "name": "stdout",
     "output_type": "stream",
     "text": [
      "average number of systems in a trace: 3.8980166787247157\n"
     ]
    }
   ],
   "source": [
    "# mean of a zipfian distribution\n",
    "a = 1.5 # parameter of zipfian distribution\n",
    "n = 25 # maximum value of zipfian distribution\n",
    "avg_sys_in_trace = stats.zipfian.mean(a, n) # average number of systems in a trace\n",
    "print(f\"average number of systems in a trace: {avg_sys_in_trace}\")"
   ]
  },
  {
   "cell_type": "markdown",
   "metadata": {},
   "source": [
    "## Average length of a trace segment"
   ]
  },
  {
   "cell_type": "code",
   "execution_count": 32,
   "metadata": {},
   "outputs": [
    {
     "name": "stdout",
     "output_type": "stream",
     "text": [
      "number of systems in a trace: 1\n",
      "number of cuts: 0\n",
      "positions of cuts: [  0 251]\n",
      "differences between successive positions: [251]\n",
      "real segment lengths: [249]\n"
     ]
    }
   ],
   "source": [
    "sys_in_trace = generate_zipfian_integer(25, 1.5)  # generate a random number from zipfian distribution\n",
    "\n",
    "sys_in_trace = 1\n",
    "print(f\"number of systems in a trace: {sys_in_trace}\")\n",
    "\n",
    "# create a random generator\n",
    "rng = np.random.default_rng()\n",
    "\n",
    "# generate a sample from a poisson dist and name it num_cut\n",
    "lam = 2*sys_in_trace\n",
    "\n",
    "num_cut = rng.poisson(lam) # number of cuts in the trace\n",
    "\n",
    "n_positions = 251\n",
    "positions = rng.integers(0, n_positions, size=num_cut) #positions are the index of the closed paren (and start token)\n",
    "if not 0 in positions:\n",
    "    positions = np.append(positions, [0,251])\n",
    "positions.sort() # sort the positions in ascending order\n",
    "\n",
    "# calculate the differenc between successive positions\n",
    "diffs = np.diff(positions)\n",
    "\n",
    "# calculate the real segment lengths\n",
    "real_seg_lens = diffs - 2\n",
    "\n",
    "print(f\"number of cuts: {num_cut}\")\n",
    "print(f\"positions of cuts: {positions}\")\n",
    "print(f\"differences between successive positions: {diffs}\")\n",
    "print(f\"real segment lengths: {real_seg_lens}\")"
   ]
  },
  {
   "cell_type": "code",
   "execution_count": 29,
   "metadata": {},
   "outputs": [
    {
     "name": "stdout",
     "output_type": "stream",
     "text": [
      "random scale: [[0.23275732 0.53472905 0.2189204  0.98314944 0.39680156 0.69281146\n",
      "  0.3025254  0.81832016 0.80505872 0.12645733]]\n",
      "rough average length of a trace segment: [[274.44309049 119.45982561 291.78934415  64.97347848 160.98384123\n",
      "   92.20205243 211.15132435  78.06069285  79.34655851 505.13988373]]\n"
     ]
    }
   ],
   "source": [
    "n_bin = 249 \n",
    "min_scale = 1\n",
    "max_scale = 10\n",
    "\n",
    "randscale = np.random.rand(min_scale,max_scale) # random scale factor\n",
    "print(f\"random scale: {randscale}\")\n",
    "\n",
    "p_bin = 1/(randscale*avg_sys_in_trace) # parameter of binomial distribution\n",
    "\n",
    "avg_seg_len = n_bin*p_bin # average length of a trace segment\n",
    "print(f\"rough average length of a trace segment: {avg_seg_len}\")"
   ]
  },
  {
   "cell_type": "markdown",
   "metadata": {},
   "source": [
    "## Average # of cuts in a trace"
   ]
  },
  {
   "cell_type": "code",
   "execution_count": 7,
   "metadata": {},
   "outputs": [
    {
     "name": "stdout",
     "output_type": "stream",
     "text": [
      "average number of cuts in a trace: 38.29326049638167\n",
      "3 x avg number of cuts x number of traces: 19299803.29017636\n"
     ]
    }
   ],
   "source": [
    "avg_num_cuts = 251/avg_seg_len - 1 # average number of cuts in the trace\n",
    "print(f\"average number of cuts in a trace: {avg_num_cuts}\")\n",
    "\n",
    "num_traces = 2*84000 #number of traces seen during training\n",
    "\n",
    "print(f\"3 x avg number of cuts x number of traces: {3*avg_num_cuts*num_traces}\")"
   ]
  }
 ],
 "metadata": {
  "kernelspec": {
   "display_name": "base",
   "language": "python",
   "name": "python3"
  },
  "language_info": {
   "codemirror_mode": {
    "name": "ipython",
    "version": 3
   },
   "file_extension": ".py",
   "mimetype": "text/x-python",
   "name": "python",
   "nbconvert_exporter": "python",
   "pygments_lexer": "ipython3",
   "version": "3.12.3"
  }
 },
 "nbformat": 4,
 "nbformat_minor": 2
}
